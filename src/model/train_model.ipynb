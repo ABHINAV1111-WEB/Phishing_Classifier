{
 "cells": [
  {
   "cell_type": "code",
   "execution_count": 43,
   "id": "2e9f8248",
   "metadata": {},
   "outputs": [],
   "source": [
    "import sys\n",
    "import os\n",
    "\n",
    "# Go up one level from /src/model/ to /PHISHING_CLASSIFIER/\n",
    "sys.path.append(os.path.abspath(os.path.join(os.getcwd(), \"..\",\"..\")))\n"
   ]
  },
  {
   "cell_type": "code",
   "execution_count": 44,
   "id": "4f2402bb",
   "metadata": {},
   "outputs": [],
   "source": [
    "from sklearn.ensemble import RandomForestClassifier\n",
    "from xgboost import XGBClassifier\n",
    "from sklearn.metrics import accuracy_score, classification_report"
   ]
  },
  {
   "cell_type": "code",
   "execution_count": 45,
   "id": "86343ffa",
   "metadata": {},
   "outputs": [],
   "source": [
    "from src.utils.preprocessing import scale_features, save_object\n",
    "from src.utils.logger import get_logger\n",
    "from src.config.config import SCALER_TYPE\n",
    "\n",
    "logger= get_logger()\n"
   ]
  },
  {
   "cell_type": "code",
   "execution_count": 59,
   "id": "69de41cc",
   "metadata": {},
   "outputs": [],
   "source": [
    "import joblib\n",
    "\n",
    "X_train = joblib.load(r\"E:\\PWSKILLS\\PROJECTS\\ML\\PHISHING_CLASSIFIER\\src\\data\\artifacts\\X_train.pkl\")\n",
    "X_test = joblib.load(r\"E:\\PWSKILLS\\PROJECTS\\ML\\PHISHING_CLASSIFIER\\src\\data\\artifacts\\X_test.pkl\")\n",
    "y_train = joblib.load(r\"E:\\PWSKILLS\\PROJECTS\\ML\\PHISHING_CLASSIFIER\\src\\data\\artifacts\\y_train.pkl\")\n",
    "y_test = joblib.load(r\"E:\\PWSKILLS\\PROJECTS\\ML\\PHISHING_CLASSIFIER\\src\\data\\artifacts\\y_test.pkl\")\n"
   ]
  },
  {
   "cell_type": "markdown",
   "id": "a11ecda8",
   "metadata": {},
   "source": [
    "# Training using RandomForestClassifier"
   ]
  },
  {
   "cell_type": "code",
   "execution_count": null,
   "id": "e78ce523",
   "metadata": {},
   "outputs": [],
   "source": [
    "\n",
    "rf_model= RandomForestClassifier(random_state= 42)\n",
    "rf_model.fit(X_train, y_train)\n",
    "rf_preds= rf_model.predict(X_test)"
   ]
  },
  {
   "cell_type": "code",
   "execution_count": 61,
   "id": "5e39242d",
   "metadata": {},
   "outputs": [
    {
     "name": "stdout",
     "output_type": "stream",
     "text": [
      "Random Forest Report:\n",
      "               precision    recall  f1-score   support\n",
      "\n",
      "           0       1.00      1.00      1.00      1000\n",
      "           1       1.00      1.00      1.00      1000\n",
      "\n",
      "    accuracy                           1.00      2000\n",
      "   macro avg       1.00      1.00      1.00      2000\n",
      "weighted avg       1.00      1.00      1.00      2000\n",
      "\n"
     ]
    }
   ],
   "source": [
    "rf_acc= accuracy_score(y_test, rf_preds)\n",
    "logger.info(f\"Random Forest Accuracy: {rf_acc:.4f}\")\n",
    "print(\"Random Forest Report:\\n\", classification_report(y_test, rf_preds))"
   ]
  },
  {
   "cell_type": "markdown",
   "id": "849d2329",
   "metadata": {},
   "source": [
    "# Training using XGBoost"
   ]
  },
  {
   "cell_type": "code",
   "execution_count": 62,
   "id": "98ac3b12",
   "metadata": {},
   "outputs": [
    {
     "name": "stderr",
     "output_type": "stream",
     "text": [
      "e:\\PWSKILLS\\PROJECTS\\ML\\PHISHING_CLASSIFIER\\.pcenv\\Lib\\site-packages\\xgboost\\training.py:183: UserWarning: [19:40:16] WARNING: C:\\actions-runner\\_work\\xgboost\\xgboost\\src\\learner.cc:738: \n",
      "Parameters: { \"use_label_encoder\" } are not used.\n",
      "\n",
      "  bst.update(dtrain, iteration=i, fobj=obj)\n"
     ]
    }
   ],
   "source": [
    "xgb_model= XGBClassifier(random_state=42, use_label_encoder= False,eval_metric= \"logloss\")\n",
    "xgb_model.fit(X_train, y_train)\n",
    "xgb_preds= xgb_model.predict(X_test)\n",
    "\n"
   ]
  },
  {
   "cell_type": "code",
   "execution_count": 63,
   "id": "b2899c84",
   "metadata": {},
   "outputs": [
    {
     "name": "stdout",
     "output_type": "stream",
     "text": [
      "XGBoost Report:\n",
      "               precision    recall  f1-score   support\n",
      "\n",
      "           0       1.00      1.00      1.00      1000\n",
      "           1       1.00      1.00      1.00      1000\n",
      "\n",
      "    accuracy                           1.00      2000\n",
      "   macro avg       1.00      1.00      1.00      2000\n",
      "weighted avg       1.00      1.00      1.00      2000\n",
      "\n"
     ]
    }
   ],
   "source": [
    "xgb_acc= accuracy_score(y_test, xgb_preds)\n",
    "logger.info(f\"XGBoost Accuracy: {xgb_acc:.4f}\")\n",
    "print(\"XGBoost Report:\\n\", classification_report(y_test, xgb_preds))"
   ]
  },
  {
   "cell_type": "markdown",
   "id": "59bbf7f5",
   "metadata": {},
   "source": [
    "# Model selection"
   ]
  },
  {
   "cell_type": "code",
   "execution_count": 64,
   "id": "b8ce842d",
   "metadata": {},
   "outputs": [],
   "source": [
    "if xgb_acc > rf_acc:\n",
    "    final_model = xgb_model\n",
    "    logger.info(\"✅ XGBoost selected as final model.\")\n",
    "else:\n",
    "    final_model = rf_model\n",
    "    logger.info(\"✅ Random Forest selected as final model.\")\n",
    "\n",
    "save_object(final_model, \"phishing_model\")\n"
   ]
  }
 ],
 "metadata": {
  "kernelspec": {
   "display_name": ".pcenv",
   "language": "python",
   "name": "python3"
  },
  "language_info": {
   "codemirror_mode": {
    "name": "ipython",
    "version": 3
   },
   "file_extension": ".py",
   "mimetype": "text/x-python",
   "name": "python",
   "nbconvert_exporter": "python",
   "pygments_lexer": "ipython3",
   "version": "3.11.9"
  }
 },
 "nbformat": 4,
 "nbformat_minor": 5
}
