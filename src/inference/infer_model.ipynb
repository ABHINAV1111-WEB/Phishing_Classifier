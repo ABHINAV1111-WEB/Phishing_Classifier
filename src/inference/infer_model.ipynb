{
 "cells": [
  {
   "cell_type": "code",
   "execution_count": 2,
   "id": "5f656705",
   "metadata": {},
   "outputs": [],
   "source": [
    "import sys\n",
    "import os\n",
    "\n",
    "sys.path.append(os.path.abspath(os.path.join(os.getcwd(), \"..\", \"..\")))\n"
   ]
  },
  {
   "cell_type": "code",
   "execution_count": 3,
   "id": "90a01542",
   "metadata": {},
   "outputs": [],
   "source": [
    "import joblib\n",
    "import numpy as np\n",
    "import pandas as pd\n",
    "from src.utils.preprocessing import scale_features\n",
    "from src.utils.logger import get_logger\n",
    "\n",
    "logger = get_logger()\n"
   ]
  },
  {
   "cell_type": "code",
   "execution_count": 4,
   "id": "11b6f938",
   "metadata": {},
   "outputs": [],
   "source": [
    "# loading of model and scaler\n",
    "model = joblib.load(r\"E:\\PWSKILLS\\PROJECTS\\ML\\PHISHING_CLASSIFIER\\src\\model\\artifacts\\phishing_model.pkl\")\n",
    "scaler = joblib.load(r\"E:\\PWSKILLS\\PROJECTS\\ML\\PHISHING_CLASSIFIER\\src\\data\\artifacts\\scaler.pkl\")  \n"
   ]
  },
  {
   "cell_type": "markdown",
   "id": "1801328d",
   "metadata": {},
   "source": [
    "# Manually Testing"
   ]
  },
  {
   "cell_type": "code",
   "execution_count": 7,
   "id": "29b8bf31",
   "metadata": {},
   "outputs": [
    {
     "name": "stderr",
     "output_type": "stream",
     "text": [
      "e:\\PWSKILLS\\PROJECTS\\ML\\PHISHING_CLASSIFIER\\.pcenv\\Lib\\site-packages\\sklearn\\utils\\validation.py:2749: UserWarning: X does not have valid feature names, but StandardScaler was fitted with feature names\n",
      "  warnings.warn(\n"
     ]
    }
   ],
   "source": [
    "#  Input having 49 features\n",
    "new_data = np.array([[0.0]*49])  # shape: (1, 49)\n",
    "X_scaled, _ = scale_features(new_data, scaler)\n",
    "prediction = model.predict(X_scaled)\n"
   ]
  },
  {
   "cell_type": "code",
   "execution_count": 8,
   "id": "e433d799",
   "metadata": {},
   "outputs": [
    {
     "name": "stderr",
     "output_type": "stream",
     "text": [
      "e:\\PWSKILLS\\PROJECTS\\ML\\PHISHING_CLASSIFIER\\.pcenv\\Lib\\site-packages\\sklearn\\utils\\validation.py:2749: UserWarning: X does not have valid feature names, but StandardScaler was fitted with feature names\n",
      "  warnings.warn(\n"
     ]
    }
   ],
   "source": [
    "# Preprocess Input\n",
    "X_scaled, _ = scale_features(new_data, scaler)\n"
   ]
  },
  {
   "cell_type": "code",
   "execution_count": null,
   "id": "5ff1a61a",
   "metadata": {},
   "outputs": [
    {
     "name": "stdout",
     "output_type": "stream",
     "text": [
      "🔍 Prediction: Phishing\n"
     ]
    }
   ],
   "source": [
    "# Make Prediction\n",
    "prediction = model.predict(X_scaled)\n",
    "print(\" Prediction:\", \"Phishing\" if prediction[0] == 1 else \"Legitimate\")\n"
   ]
  }
 ],
 "metadata": {
  "kernelspec": {
   "display_name": ".pcenv",
   "language": "python",
   "name": "python3"
  },
  "language_info": {
   "codemirror_mode": {
    "name": "ipython",
    "version": 3
   },
   "file_extension": ".py",
   "mimetype": "text/x-python",
   "name": "python",
   "nbconvert_exporter": "python",
   "pygments_lexer": "ipython3",
   "version": "3.11.9"
  }
 },
 "nbformat": 4,
 "nbformat_minor": 5
}
