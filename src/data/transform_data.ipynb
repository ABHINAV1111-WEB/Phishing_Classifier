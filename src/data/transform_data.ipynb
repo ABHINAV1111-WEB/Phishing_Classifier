{
 "cells": [
  {
   "cell_type": "code",
   "execution_count": 16,
   "id": "1f764bf3",
   "metadata": {},
   "outputs": [],
   "source": [
    "# load data from MongoDB and convert it into pandas DataFrame\n",
    "  # Instead of reading from CSV again, let’s pull directly from MongoDB:\n",
    " \n",
    "from pymongo import MongoClient\n",
    "import pandas as pd\n",
    "import os\n",
    "from dotenv import load_dotenv\n",
    "\n"
   ]
  },
  {
   "cell_type": "code",
   "execution_count": 17,
   "id": "6945333f",
   "metadata": {},
   "outputs": [],
   "source": [
    "load_dotenv()\n",
    "client = MongoClient(os.getenv(\"MONGO_URI\"))\n",
    "collection = client[\"phishing_db\"][\"raw_data\"]\n",
    "\n",
    "df= pd.DataFrame(list(collection.find()))\n",
    "df.drop(columns=[\"_id\"], inplace= True) # Drop MongoDB's default ID"
   ]
  },
  {
   "cell_type": "code",
   "execution_count": 18,
   "id": "ae4d9d76",
   "metadata": {},
   "outputs": [],
   "source": [
    "# feature selection\n",
    "X = df.drop(columns=[\"CLASS_LABEL\"]) # queries all documents from MongoDB collection.\n",
    "y= df[\"CLASS_LABEL\"]"
   ]
  },
  {
   "cell_type": "code",
   "execution_count": 19,
   "id": "b52aa622",
   "metadata": {},
   "outputs": [],
   "source": [
    "# scaling\n",
    "\n",
    "from sklearn.preprocessing import StandardScaler\n",
    "scaler= StandardScaler()\n",
    "X_scaled= scaler.fit_transform(X)"
   ]
  },
  {
   "cell_type": "code",
   "execution_count": 20,
   "id": "ff3417cc",
   "metadata": {},
   "outputs": [],
   "source": [
    "# train-test-split\n",
    "\n",
    "from sklearn.model_selection import train_test_split\n",
    "X_train,X_test, y_train, y_test= train_test_split(X_scaled,y, test_size= 0.2, random_state=42, stratify=y)\n"
   ]
  },
  {
   "cell_type": "code",
   "execution_count": 31,
   "id": "31f54dd1",
   "metadata": {},
   "outputs": [
    {
     "data": {
      "text/plain": [
       "['artifacts/y_test.pkl']"
      ]
     },
     "execution_count": 31,
     "metadata": {},
     "output_type": "execute_result"
    }
   ],
   "source": [
    "import joblib\n",
    "import os\n",
    "\n",
    "os.makedirs(\"artifacts\", exist_ok=True)\n",
    "joblib.dump(X_train, \"artifacts/X_train.pkl\")\n",
    "joblib.dump(X_test, \"artifacts/X_test.pkl\")\n",
    "joblib.dump(y_train, \"artifacts/y_train.pkl\")\n",
    "joblib.dump(y_test, \"artifacts/y_test.pkl\")"
   ]
  },
  {
   "cell_type": "code",
   "execution_count": 21,
   "id": "0b9d0c63",
   "metadata": {},
   "outputs": [],
   "source": [
    "import sys\n",
    "import os\n",
    "\n",
    "sys.path.append(os.path.abspath(os.path.join(os.getcwd(), \"..\", \"..\")))\n"
   ]
  },
  {
   "cell_type": "code",
   "execution_count": 22,
   "id": "67f825e9",
   "metadata": {},
   "outputs": [],
   "source": [
    "from src.utils.logger import get_logger\n",
    "\n",
    "logger = get_logger()\n",
    "logger.info(\"Train-test split completed successfully.\")\n"
   ]
  },
  {
   "cell_type": "code",
   "execution_count": 23,
   "id": "e6196e6b",
   "metadata": {},
   "outputs": [],
   "source": [
    "try:\n",
    "    X_train, X_test, y_train, y_test = train_test_split(...)\n",
    "    logger.info(\"✅ Train-test split completed successfully.\")\n",
    "except Exception as e:\n",
    "    logger.error(f\"❌ Train-test split failed: {e}\")\n"
   ]
  },
  {
   "cell_type": "code",
   "execution_count": 24,
   "id": "f3231887",
   "metadata": {},
   "outputs": [],
   "source": [
    "import sys\n",
    "import os\n",
    "sys.path.append(os.path.abspath(os.path.join(os.getcwd(), \"..\", \"..\")))"
   ]
  },
  {
   "cell_type": "code",
   "execution_count": 25,
   "id": "f49c4984",
   "metadata": {},
   "outputs": [],
   "source": [
    "from src.utils.preprocessing import scale_features, save_object\n",
    "\n",
    "X_scaled, scaler = scale_features(X)\n",
    "save_object(scaler, \"scaler\")\n"
   ]
  }
 ],
 "metadata": {
  "kernelspec": {
   "display_name": ".pcenv",
   "language": "python",
   "name": "python3"
  },
  "language_info": {
   "codemirror_mode": {
    "name": "ipython",
    "version": 3
   },
   "file_extension": ".py",
   "mimetype": "text/x-python",
   "name": "python",
   "nbconvert_exporter": "python",
   "pygments_lexer": "ipython3",
   "version": "3.11.9"
  }
 },
 "nbformat": 4,
 "nbformat_minor": 5
}
